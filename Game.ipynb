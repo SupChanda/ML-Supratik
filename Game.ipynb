{
 "cells": [
  {
   "cell_type": "code",
   "execution_count": 4,
   "metadata": {},
   "outputs": [
    {
     "name": "stderr",
     "output_type": "stream",
     "text": [
      "C:\\Users\\supratik chanda\\Documents\\New folder (2)\\lib\\site-packages\\sklearn\\preprocessing\\label.py:111: DataConversionWarning: A column-vector y was passed when a 1d array was expected. Please change the shape of y to (n_samples, ), for example using ravel().\n",
      "  y = column_or_1d(y, warn=True)\n"
     ]
    },
    {
     "name": "stdout",
     "output_type": "stream",
     "text": [
      "0.7631278538812786\n",
      "[[  0  88   0   0   3   0]\n",
      " [  0 581   0   0   8   0]\n",
      " [  0  97   0   0   6   0]\n",
      " [  0   0   0   0 105   0]\n",
      " [  0   0   0   0 756   0]\n",
      " [  0   0   0   0 108   0]]\n"
     ]
    }
   ],
   "source": [
    "import pandas as pd \n",
    "import numpy as np\n",
    "import matplotlib.pyplot as plt\n",
    "from sklearn.preprocessing import LabelEncoder,Imputer\n",
    "from sklearn.metrics import accuracy_score\n",
    "lbl=LabelEncoder()\n",
    "df= pd.read_csv('game.csv')[0:4380]\n",
    "X= df.iloc[:,0:4].values\n",
    "Y= df.iloc[:,4:5].values\n",
    "Y = lbl.fit_transform(Y)\n",
    "#print(Y)\n",
    "\n",
    "from sklearn.model_selection import train_test_split\n",
    "X_train,X_test,y_train,y_test = train_test_split(X,Y,test_size=0.4,random_state=0)\n",
    "from sklearn.svm import SVC\n",
    "cls= SVC(kernel= 'rbf',random_state=0,gamma=0.00011)\n",
    "#print(X_train,y_train)\n",
    "cls.fit(X_train,y_train)\n",
    "Y_pred= cls.predict(X_test)\n",
    "print(accuracy_score(y_test,Y_pred))\n",
    "from sklearn.metrics import confusion_matrix\n",
    "cm = confusion_matrix(y_test,Y_pred)\n",
    "print(cm)"
   ]
  },
  {
   "cell_type": "code",
   "execution_count": null,
   "metadata": {},
   "outputs": [],
   "source": []
  }
 ],
 "metadata": {
  "kernelspec": {
   "display_name": "Python 3",
   "language": "python",
   "name": "python3"
  },
  "language_info": {
   "codemirror_mode": {
    "name": "ipython",
    "version": 3
   },
   "file_extension": ".py",
   "mimetype": "text/x-python",
   "name": "python",
   "nbconvert_exporter": "python",
   "pygments_lexer": "ipython3",
   "version": "3.6.5"
  }
 },
 "nbformat": 4,
 "nbformat_minor": 2
}
