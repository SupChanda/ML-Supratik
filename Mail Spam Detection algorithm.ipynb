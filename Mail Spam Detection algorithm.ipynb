{
 "cells": [
  {
   "cell_type": "code",
   "execution_count": 2,
   "metadata": {},
   "outputs": [
    {
     "name": "stdout",
     "output_type": "stream",
     "text": [
      "0.9808612440191388\n",
      "0.7906698564593302\n",
      "0.9605263157894737\n",
      "0.9055023923444976\n",
      "[[732   0]\n",
      " [ 16  88]]\n"
     ]
    },
    {
     "data": {
      "image/png": "[encoded data removed]",
      "text/plain": [
       "<Figure size 432x432 with 1 Axes>"
      ]
     },
     "metadata": {},
     "output_type": "display_data"
    }
   ],
   "source": [
    "import re \n",
    "import numpy as np\n",
    "import pandas as pd\n",
    "from sklearn.model_selection import train_test_split\n",
    "#nltk.download('stopwords')\n",
    "from nltk.corpus import stopwords\n",
    "from nltk.stem.porter import PorterStemmer\n",
    "import matplotlib.pyplot as plt\n",
    "ps= PorterStemmer()\n",
    "#nltk.download('punkt')\n",
    "from nltk.tokenize import word_tokenize as wt\n",
    "dt = pd.read_csv('spam.csv',encoding='latin-1')\n",
    "stop_words= stopwords.words('english')\n",
    "X= dt['v2']\n",
    "#print(X)\n",
    "listN=[]\n",
    "for each in X:\n",
    "    #print(each)\n",
    "    rep = (re.sub('[^a-zA-Z]',' ',each)).split()\n",
    "    rep1 = [ps.stem(elem) for elem in rep if elem not in set(stop_words) if len(elem) > 3 ]\n",
    "    listN.append(rep1)\n",
    "strN = [' '.join(each) for each in listN]\n",
    "from sklearn.feature_extraction.text import CountVectorizer\n",
    "cv = CountVectorizer(max_features=6000)\n",
    "X= cv.fit_transform(strN).toarray()\n",
    "Y= dt['v1'].values\n",
    "from sklearn.ensemble import RandomForestClassifier\n",
    "from sklearn.metrics import accuracy_score as ac,confusion_matrix\n",
    "from sklearn.naive_bayes import GaussianNB\n",
    "from sklearn.tree import DecisionTreeClassifier\n",
    "from sklearn.neighbors import KNeighborsClassifier\n",
    "knn= KNeighborsClassifier(n_neighbors=15,metric= 'minkowski',p=2)\n",
    "dsc =DecisionTreeClassifier(criterion='entropy',random_state=1,max_leaf_nodes=36)\n",
    "gb= GaussianNB()\n",
    "rC= RandomForestClassifier(n_estimators=100,criterion='entropy', random_state=1,max_leaf_nodes=123)\n",
    "X_train,X_test,y_train,y_test=train_test_split(X,Y,test_size=0.15,random_state=1)\n",
    "rC.fit(X_train,y_train)\n",
    "gb.fit(X_train,y_train)\n",
    "dsc.fit(X_train,y_train)\n",
    "knn.fit(X_train,y_train)\n",
    "print(ac(y_test,rC.predict(X_test)))\n",
    "print(ac(y_test,gb.predict(X_test)))\n",
    "print(ac(y_test,dsc.predict(X_test)))\n",
    "print(ac(y_test,knn.predict(X_test)))\n",
    "pred=ac(y_test,rC.predict(X_test))\n",
    "pred1=ac(y_test,gb.predict(X_test))\n",
    "pred2=ac(y_test,dsc.predict(X_test))\n",
    "pred3=ac(y_test,knn.predict(X_test))\n",
    "cm = confusion_matrix(y_test,rC.predict(X_test))\n",
    "print(cm)\n",
    "plt.figure(figsize=(6,6))\n",
    "plt.bar(np.arange(4),(pred,pred1,pred2,pred3),width=0.8)\n",
    "plt.xticks(np.arange(4),('RFCls','Naive_Bayes','DecisionTree','KNN'))\n",
    "plt.show()"
   ]
  },
  {
   "cell_type": "code",
   "execution_count": null,
   "metadata": {},
   "outputs": [],
   "source": []
  }
 ],
 "metadata": {
  "kernelspec": {
   "display_name": "Python 3",
   "language": "python",
   "name": "python3"
  },
  "language_info": {
   "codemirror_mode": {
    "name": "ipython",
    "version": 3
   },
   "file_extension": ".py",
   "mimetype": "text/x-python",
   "name": "python",
   "nbconvert_exporter": "python",
   "pygments_lexer": "ipython3",
   "version": "3.6.5"
  }
 },
 "nbformat": 4,
 "nbformat_minor": 1
}
